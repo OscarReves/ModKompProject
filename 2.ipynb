{
 "metadata": {
  "language_info": {
   "codemirror_mode": {
    "name": "ipython",
    "version": 3
   },
   "file_extension": ".py",
   "mimetype": "text/x-python",
   "name": "python",
   "nbconvert_exporter": "python",
   "pygments_lexer": "ipython3",
   "version": "3.7.4-final"
  },
  "orig_nbformat": 2,
  "kernelspec": {
   "name": "python3",
   "display_name": "Python 3.7.4 64-bit (conda)",
   "metadata": {
    "interpreter": {
     "hash": "b3ba2566441a7c06988d0923437866b63cedc61552a5af99d1f4fb67d367b25f"
    }
   }
  }
 },
 "nbformat": 4,
 "nbformat_minor": 2,
 "cells": [
  {
   "cell_type": "code",
   "execution_count": 1,
   "metadata": {},
   "outputs": [],
   "source": [
    "import numpy as np\n",
    "import matplotlib.pyplot as plt"
   ]
  },
  {
   "cell_type": "code",
   "execution_count": null,
   "metadata": {},
   "outputs": [],
   "source": [
    "T = 100\n",
    "n = 4\n",
    "alpha = 0.9\n",
    "beta = 0.2\n",
    "gamma = 0.1\n",
    "Lambda = [1,5]\n",
    "\n",
    "cpd_z = np.array([\n",
    "                [1-alpha, alpha]\n",
    "                [alpha, 1-alpha],\n",
    "                [0.5,0.5]\n",
    "                ])\n",
    "\n",
    "Gamma = np.array(\n",
    "    [\n",
    "        [1-gamma,0,gamma],\n",
    "        [0,1-gamma,gamma],\n",
    "        [beta/2,beta/2,1-beta]\n",
    "    ]\n",
    ")\n"
   ]
  }
 ]
}